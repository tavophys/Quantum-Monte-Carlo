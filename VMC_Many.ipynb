{
 "cells": [
  {
   "cell_type": "code",
   "execution_count": 1,
   "metadata": {},
   "outputs": [],
   "source": [
    "import numpy as np\n",
    "import numpy.linalg as npl\n",
    "import matplotlib.pylab as plt\n",
    "from scipy.spatial.distance import pdist"
   ]
  },
  {
   "cell_type": "code",
   "execution_count": 2,
   "metadata": {},
   "outputs": [],
   "source": [
    "npart, ndim = 3, 3\n",
    "oms = np.ones(ndim)\n",
    "g_param = 4.0\n",
    "range_param = 0.1"
   ]
  },
  {
   "cell_type": "code",
   "execution_count": 8,
   "metadata": {},
   "outputs": [],
   "source": [
    "def psi(al1, oms1, rs1):\n",
    "    return np.exp(-al1*np.sum(oms1*rs1**2))\n",
    "\n",
    "def ekin(al1, oms1, rs1, h=0.01):\n",
    "    npart1, ndim1 = rs1.shape\n",
    "    psiold = psi(al1, oms1, rs1)\n",
    "    kin = 0\n",
    "    for j1 in range(npart1):\n",
    "        numer = 0.\n",
    "        for el in range(ndim1):\n",
    "            r = rs1[j1, el]\n",
    "            rs1[j1, el] = r + h\n",
    "            psip = psi(al1, oms1, rs1)\n",
    "            rs1[j1, el] = r - h\n",
    "            psim = psi(al1, oms1, rs1)\n",
    "            rs1[j1, el] = r\n",
    "            numer += psip + psim - 2.*psiold\n",
    "        lapl = numer/h**2\n",
    "        kin += -0.5*lapl/psiold\n",
    "    return kin\n",
    "\n",
    "def epot(oms1,rs1,g1,prange1):\n",
    "    distances1 = pdist(rs1)\n",
    "    return 0.5*np.sum(oms1**2*rs1**2)+np.sum(g1*np.exp(-(distances1/prange1)**2))\n",
    "\n",
    "def vmc(al1, npart1, ndim1, oms1, g1, prange1, inseed=8735):\n",
    "    Ncal, nm, th = 10**4, 100, 0.8\n",
    "    np.random.seed(inseed)\n",
    "    rolds = np.random.uniform(-1, 1, (npart1, ndim1))\n",
    "    psiold = psi(al1, oms1, rolds)\n",
    "    iacc = 0\n",
    "    eners = 0.0\n",
    "    eners_sq = 0.0 \n",
    "    \n",
    "    for itot in range(nm*Ncal):\n",
    "        rnews = rolds + th*np.random.uniform(-1, 1, (npart1, ndim1))\n",
    "        psinew = psi(al1, oms1, rnews)\n",
    "        psiratio = (psinew/psiold)**2\n",
    "        \n",
    "        if psiratio >= np.random.uniform(0,1):\n",
    "            rolds = np.copy(rnews)\n",
    "            psiold = psinew\n",
    "            iacc += 1\n",
    "        if (itot%nm) == 0:\n",
    "            energy_m = ekin(al1, oms1, rolds) + epot(oms1, rolds, g1, prange1)\n",
    "            eners += energy_m/Ncal\n",
    "            eners_sq += energy_m**2/Ncal\n",
    "        \n",
    "    val_dict={'A':iacc/(nm*Ncal),'E':eners,'Er':np.sqrt(eners_sq-eners**2)/np.sqrt(Ncal-1)}\n",
    "    return val_dict"
   ]
  },
  {
   "cell_type": "code",
   "execution_count": 9,
   "metadata": {},
   "outputs": [
    {
     "name": "stdout",
     "output_type": "stream",
     "text": [
      "0.665993\n",
      "0.597418\n",
      "0.542402\n",
      "0.496242\n",
      "0.457113\n",
      "0.421389\n",
      "0.390725\n",
      "0.363003\n",
      "0.338352\n",
      "0.315948\n",
      "0.295272\n",
      "0.27688\n",
      "0.259425\n",
      "0.24349\n",
      "0.229153\n",
      "0.215563\n",
      "0.202861\n",
      "0.191581\n",
      "0.180385\n"
     ]
    }
   ],
   "source": [
    "alphas_s = np.linspace(0.1, 1.0, 19)\n",
    "E_s = np.zeros(alphas_s.shape[0], float)\n",
    "E_err_s = np.zeros(alphas_s.shape[0], float)\n",
    "for xi, xu in enumerate(alphas_s):\n",
    "    dict_1 = vmc(xu, npart, ndim, oms, g_param, range_param)\n",
    "    E_s[xi], E_err_s[xi] = dict_1['E'], dict_1['Er']\n",
    "    print(dict_1[\"A\"])"
   ]
  },
  {
   "cell_type": "code",
   "execution_count": 10,
   "metadata": {},
   "outputs": [
    {
     "data": {
      "image/png": "[encoded data removed]",
      "text/plain": [
       "<Figure size 640x480 with 1 Axes>"
      ]
     },
     "metadata": {},
     "output_type": "display_data"
    }
   ],
   "source": [
    "plt.errorbar(alphas_s, E_s, E_err_s, fmt='b--o', linewidth=3, capsize=8)\n",
    "plt.xlabel('$\\\\alpha$', fontsize=20)\n",
    "plt.ylabel('$E_{g}$', fontsize=20)\n",
    "#plt.savefig('MC_1.pdf')\n",
    "plt.show()"
   ]
  },
  {
   "cell_type": "code",
   "execution_count": 11,
   "metadata": {},
   "outputs": [
    {
     "data": {
      "text/plain": [
       "array([[ 0.1       , 11.74067303],\n",
       "       [ 0.15      ,  8.21124456],\n",
       "       [ 0.2       ,  6.57340792],\n",
       "       [ 0.25      ,  5.67356829],\n",
       "       [ 0.3       ,  5.11944553],\n",
       "       [ 0.35      ,  4.79998304],\n",
       "       [ 0.4       ,  4.62164073],\n",
       "       [ 0.45      ,  4.53264218],\n",
       "       [ 0.5       ,  4.50305313],\n",
       "       [ 0.55      ,  4.52081365],\n",
       "       [ 0.6       ,  4.57580204],\n",
       "       [ 0.65      ,  4.66197226],\n",
       "       [ 0.7       ,  4.76449237],\n",
       "       [ 0.75      ,  4.87607187],\n",
       "       [ 0.8       ,  5.00452208],\n",
       "       [ 0.85      ,  5.14601504],\n",
       "       [ 0.9       ,  5.29087078],\n",
       "       [ 0.95      ,  5.46738679],\n",
       "       [ 1.        ,  5.64967245]])"
      ]
     },
     "execution_count": 11,
     "metadata": {},
     "output_type": "execute_result"
    }
   ],
   "source": [
    "np.c_[alphas_s, E_s]"
   ]
  }
 ],
 "metadata": {
  "kernelspec": {
   "display_name": "Python 3 (ipykernel)",
   "language": "python",
   "name": "python3"
  },
  "language_info": {
   "codemirror_mode": {
    "name": "ipython",
    "version": 3
   },
   "file_extension": ".py",
   "mimetype": "text/x-python",
   "name": "python",
   "nbconvert_exporter": "python",
   "pygments_lexer": "ipython3",
   "version": "3.11.5"
  }
 },
 "nbformat": 4,
 "nbformat_minor": 4
}
